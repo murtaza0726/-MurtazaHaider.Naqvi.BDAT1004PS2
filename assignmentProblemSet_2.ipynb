{
 "cells": [
  {
   "cell_type": "markdown",
   "id": "4196d71c",
   "metadata": {},
   "source": [
    "# Question 1\n",
    "Consider the following Python module:\n",
    "\n",
    "a = 0\n",
    "\n",
    "def b():\n",
    "    global a\n",
    "    a = c(a)\n",
    "\n",
    "def c(a):\n",
    "    return a + 2\n",
    "\n",
    "After importing the module into the interpreter, you execute:\n",
    "\n",
    "->b( )\n",
    "\n",
    "->b( )\n",
    "\n",
    "->b( )\n",
    "\n",
    "->a\n",
    "\n",
    "?\n",
    "\n",
    "What value is displayed when the last expression (a) is evaluated? Explain your answer by indicating what happens in every executed statement."
   ]
  },
  {
   "cell_type": "code",
   "execution_count": 1,
   "id": "38b212fb",
   "metadata": {},
   "outputs": [],
   "source": [
    "a = 0\n",
    "\n",
    "def b():\n",
    "    global a\n",
    "    a = c(a)\n",
    "\n",
    "def c(a):\n",
    "    return a + 2"
   ]
  },
  {
   "cell_type": "code",
   "execution_count": 2,
   "id": "208ca64b",
   "metadata": {},
   "outputs": [
    {
     "data": {
      "text/plain": [
       "6"
      ]
     },
     "execution_count": 2,
     "metadata": {},
     "output_type": "execute_result"
    }
   ],
   "source": [
    "b() #In first execution value of a=0, therefore c(a) returns 0+2=2 and after executing function b() value of a is 2\n",
    "b() #In second execution value of a=2, therefore c(a) returns 2+2=2 and after executing function b() value of a is 4\n",
    "b() #In third execution value of a=4, therefore c(a) returns 4+2=2 and after executing function b() value of a is 6\n",
    "a   #after executing b() three times, 'a' holds value 6 "
   ]
  },
  {
   "cell_type": "markdown",
   "id": "f8dfe5eb",
   "metadata": {},
   "source": [
    "# Question 2\n",
    "Function fileLength(), given to you, takes the name of a file as input and returns the length of the file:\n",
    "\n",
    "--- fileLength('midterm.py')\n",
    "\n",
    "284\n",
    "\n",
    "--- fileLength('idterm.py')\n",
    "Traceback (most recent call last):\n",
    "  File \"<pyshell#34>\", line 1, in <module>\n",
    "    fileLength('idterm.py')\n",
    "  File \"/Users/me/midterm.py\", line 3, in fileLength\n",
    "    infile = open(filename)\n",
    "FileNotFoundError: [Errno 2] No such file or directory: 'idterm.py'\n",
    "\n",
    "As shown above, if the file cannot be found by the interpreter or if it cannot be read as a text file, an exception will be raised. Modify function fileLength() so that a friendly message is printed instead:\n",
    "\n",
    "--- fileLength('midterm.py')\n",
    "    \n",
    "358\n",
    "    \n",
    "--- fileLength('idterm.py')\n",
    "File idterm.py not found.\n"
   ]
  },
  {
   "cell_type": "code",
   "execution_count": 3,
   "id": "59a64936",
   "metadata": {},
   "outputs": [],
   "source": [
    "def file_length(file_name):\n",
    "    try:    \n",
    "        file = open(file_name)\n",
    "        contents = file.read()\n",
    "        file.close()    \n",
    "        print(len(contents))\n",
    "    except:\n",
    "        print('File ' + file_name +' not found.')"
   ]
  },
  {
   "cell_type": "code",
   "execution_count": 4,
   "id": "866cb1f4",
   "metadata": {},
   "outputs": [
    {
     "name": "stdout",
     "output_type": "stream",
     "text": [
      "82\n"
     ]
    }
   ],
   "source": [
    "file_length('midterm.py')"
   ]
  },
  {
   "cell_type": "code",
   "execution_count": 5,
   "id": "ee93a012",
   "metadata": {},
   "outputs": [
    {
     "name": "stdout",
     "output_type": "stream",
     "text": [
      "File idterm.py not found.\n"
     ]
    }
   ],
   "source": [
    "file_length('idterm.py')"
   ]
  },
  {
   "cell_type": "markdown",
   "id": "57b2ceff",
   "metadata": {},
   "source": [
    "# Question 3\n",
    "Write a class named Marsupial that can be used as shown below:\n",
    "\n",
    "--- m = Marsupial()\n",
    "--- m.put_in_pouch('doll')\n",
    "--- m.put_in_pouch('firetruck')\n",
    "--- m.put_in_pouch('kitten')\n",
    "--- m.pouch_contents()\n",
    "['doll', 'firetruck', 'kitten']\n",
    "\n",
    "Now write a class named Kangaroo as a subclass of Marsupial that inherits all the attributes of Marsupial and also:\n",
    "a.\textends the Marsupial __init__ constructor to take, as input, the coordinates x and y of the Kangaroo object,\n",
    "b.\tsupports method jump that takes number values dx and dy as input and moves the kangaroo by dx units along the x-axis and by dy units along the y-axis, and\n",
    "c.\toverloads the __str__ operator so it behaves as shown below.\n",
    "\n",
    "--- k = Kangaroo(0,0)\n",
    "--- print(k)\n",
    "I am a Kangaroo located at coordinates (0,0)\n",
    "--- k.put_in_pouch('doll')\n",
    "--- k.put_in_pouch('firetruck')\n",
    "--- k.put_in_pouch('kitten')\n",
    "--- k.pouch_contents()\n",
    "['doll', 'firetruck', 'kitten']\n",
    "--- k.jump(1,0)\n",
    "--- k.jump(1,0)\n",
    "--- k.jump(1,0)\n",
    "--- print(k)\n",
    "I am a Kangaroo located at coordinates (3,0)"
   ]
  },
  {
   "cell_type": "code",
   "execution_count": 6,
   "id": "6b78a647",
   "metadata": {},
   "outputs": [
    {
     "name": "stdout",
     "output_type": "stream",
     "text": [
      "I am a Kangaroo located at coordinates (0,0)\n",
      "['doll', 'firetruck', 'kitten']\n",
      "I am a Kangaroo located at coordinates (3,0)\n"
     ]
    }
   ],
   "source": [
    "class Marsupial:\n",
    "    ' class that represents Marsupials'\n",
    "    \n",
    "    def __init__(self):\n",
    "        self.pouch_items = []      #Empty List\n",
    "    \n",
    "    def put_in_pouch(self, item):\n",
    "        self.pouch_items.append(item)    #append items to the list\n",
    "    \n",
    "    def pouch_contents(self):\n",
    "        print (self.pouch_items)      #prints item list\n",
    "    \n",
    "# m = Marsupial()\n",
    "# m.put_in_pouch('doll')\n",
    "# m.put_in_pouch('firetruck')\n",
    "# m.put_in_pouch('kitten')\n",
    "# m.pouch_contents()\n",
    " \n",
    "    \n",
    "class Kangaroo(Marsupial):      # subclass of Marsupial\n",
    "    'Subclass of Marspuial'\n",
    "    \n",
    "    def __init__(self, x,y):   #extended __init__ constructor to take x and y coordinates as input\n",
    "        \n",
    "        self.x = x\n",
    "        self.y = x\n",
    "        \n",
    "        Marsupial.__init__(self)\n",
    "        \n",
    "    def jump(self, dx, dy):    # To move the Kangaroo by dx and dy units along x-axis and y-axis respectively\n",
    "        self.x += dx\n",
    "        self.y += dy\n",
    "        \n",
    "    def __str__(self):         # To overload __str__ operator\n",
    "        \n",
    "        return \"I am a Kangaroo located at coordinates (\"+str(self.x)+\",\"+str(self.y)+\")\"\n",
    "        \n",
    "k = Kangaroo(0,0)\n",
    "\n",
    "print(k)\n",
    "      \n",
    "k.put_in_pouch('doll')\n",
    "k.put_in_pouch('firetruck')\n",
    "k.put_in_pouch('kitten')\n",
    "k.pouch_contents()\n",
    "\n",
    "k.jump(1,0)\n",
    "k.jump(1,0)\n",
    "k.jump(1,0)\n",
    "print(k)"
   ]
  },
  {
   "cell_type": "markdown",
   "id": "6e55af90",
   "metadata": {},
   "source": [
    "# Question 4\n",
    "Write function collatz() that takes a positive integer x as input and prints the Collatz sequence starting at x. A Collatz sequence is obtained by repeatedly applying this rule to the previous number x in the sequence:\n",
    " \n",
    "x = {█(  x/2                    if x is even@3x+1               if x is odd)┤\n",
    "\n",
    "Your function should stop when the sequence gets to number 1. Your implementation must be recursive, without any loops.\n",
    "\n",
    "--- collatz(1)\n",
    "1\n",
    "--- collatz(10)\n",
    "10\n",
    "5\n",
    "16\n",
    "8\n",
    "4\n",
    "2\n",
    "1"
   ]
  },
  {
   "cell_type": "code",
   "execution_count": 7,
   "id": "078b14b3",
   "metadata": {},
   "outputs": [],
   "source": [
    "def collatz(x):\n",
    "    \n",
    "    if x<0:                                        # condition to check the input integer is poitive\n",
    "        print('Plese Enter a positive Integer!')\n",
    "    \n",
    "    elif x==1:                                     # Base Case\n",
    "        print(x)\n",
    "       \n",
    "    elif x>1:                                      # recursive step\n",
    "        print(x)\n",
    "        if x%2==0:\n",
    "            x=x//2\n",
    "        else:\n",
    "            x=3*x+1\n",
    "        collatz(x)"
   ]
  },
  {
   "cell_type": "code",
   "execution_count": 8,
   "id": "7bf67529",
   "metadata": {},
   "outputs": [
    {
     "name": "stdout",
     "output_type": "stream",
     "text": [
      "1\n",
      "10\n",
      "5\n",
      "16\n",
      "8\n",
      "4\n",
      "2\n",
      "1\n"
     ]
    }
   ],
   "source": [
    "collatz(1)\n",
    "collatz(10)"
   ]
  },
  {
   "cell_type": "markdown",
   "id": "329fe321",
   "metadata": {},
   "source": [
    "# Question 5\n",
    "Write a recursive method binary() that takes a non-negative integer n and prints the binary representation of integer n.\n",
    "\n",
    "--- binary(0)\n",
    "0\n",
    "--- binary(1)\n",
    "1\n",
    "--- binary(3)\n",
    "11\n",
    "--- binary(9)\n",
    "1001"
   ]
  },
  {
   "cell_type": "code",
   "execution_count": 9,
   "id": "0ca1c4ba",
   "metadata": {},
   "outputs": [],
   "source": [
    "def binary(x):\n",
    "\n",
    "    if x<0:                                             #condition to check the input integer is non-negative\n",
    "        print('Please enter a non-negative integer!')\n",
    "  \n",
    "    elif x==0:                                          #Base case\n",
    "        return x\n",
    "    \n",
    "    else:                                               #recursive case\n",
    "        return (x%2 + 10*binary(x//2))\n",
    "    \n",
    "    print(binary(x))"
   ]
  },
  {
   "cell_type": "code",
   "execution_count": 10,
   "id": "d2eff26a",
   "metadata": {},
   "outputs": [
    {
     "data": {
      "text/plain": [
       "0"
      ]
     },
     "execution_count": 10,
     "metadata": {},
     "output_type": "execute_result"
    }
   ],
   "source": [
    "binary(0)"
   ]
  },
  {
   "cell_type": "code",
   "execution_count": 11,
   "id": "a6611491",
   "metadata": {},
   "outputs": [
    {
     "data": {
      "text/plain": [
       "1"
      ]
     },
     "execution_count": 11,
     "metadata": {},
     "output_type": "execute_result"
    }
   ],
   "source": [
    "binary(1)"
   ]
  },
  {
   "cell_type": "code",
   "execution_count": 12,
   "id": "8e24915e",
   "metadata": {},
   "outputs": [
    {
     "data": {
      "text/plain": [
       "11"
      ]
     },
     "execution_count": 12,
     "metadata": {},
     "output_type": "execute_result"
    }
   ],
   "source": [
    "binary(3)"
   ]
  },
  {
   "cell_type": "code",
   "execution_count": 13,
   "id": "0a63994e",
   "metadata": {},
   "outputs": [
    {
     "data": {
      "text/plain": [
       "1001"
      ]
     },
     "execution_count": 13,
     "metadata": {},
     "output_type": "execute_result"
    }
   ],
   "source": [
    "binary(9)"
   ]
  },
  {
   "cell_type": "markdown",
   "id": "b439a1d5",
   "metadata": {},
   "source": [
    "# Question 6\n",
    "Implement a class named HeadingParser that can be used to parse an HTML document, and retrieve and print all the headings in the document. You should implement your class as a subclass of HTMLParser, defined in Standard Library module html.parser. When fed a string containing HTML code, your class should print the headings, one per line and in the order in which they appear in the document. Each heading should be indented as follows: an h1 heading should have indentation 0, and h2 heading should have indentation 1, etc. Test your implementation using w3c.html.\n",
    "\n",
    "--- infile = open('w3c.html')\n",
    "--- content = infile.read()\n",
    "--- infile.close()\n",
    "--- hp = HeadingParser()\n",
    "--- hp.feed(content)\n",
    "W3C Mission\n",
    " Principles"
   ]
  },
  {
   "cell_type": "code",
   "execution_count": 14,
   "id": "ccaa7b5b",
   "metadata": {},
   "outputs": [
    {
     "name": "stdout",
     "output_type": "stream",
     "text": [
      "W3C Mission\n",
      " Principles\n"
     ]
    }
   ],
   "source": [
    "from html.parser import HTMLParser\n",
    "\n",
    "class HeadingParser(HTMLParser):\n",
    "    \n",
    "    def _init_(self):\n",
    "        HTMLParser.__init__(self)\n",
    "        self.heading = False\n",
    "    heading = ['h1','h2','h3','h4','h5','h6']\n",
    "        \n",
    "    def handle_starttag(self, tag, attrs):\n",
    "        \n",
    "        if tag in {'h1','h2','h3','h4','h5','h6'}:   # 6 levels of HTML headings\n",
    "            self.heading = True\n",
    "            self.indsize = int(tag[1])-1             \n",
    "            self.indent = ' '*self.indsize           # indentation as per tag number\n",
    "        else:\n",
    "            self.heading = False\n",
    "\n",
    "    def handle_data(self, data):\n",
    "        if self.heading == True:\n",
    "            print (\"{}{}\".format(self.indent, data))\n",
    "            self.heading = False\n",
    "            \n",
    "infile = open('w3c.html')\n",
    "content = infile.read()\n",
    "infile.close()\n",
    "hp = HeadingParser()\n",
    "hp.feed(content)"
   ]
  },
  {
   "cell_type": "markdown",
   "id": "c90134c5",
   "metadata": {},
   "source": [
    "# Question 7\n",
    "Implement recursive function webdir() that takes as input: a URL (as a string) and non-negative integers depth and indent. Your function should visit every web page reachable from the starting URL web page in depth clicks or less, and print each web page's URL. As shown below, indentation, specified by indent,  should be used to indicate the depth of a URL.\n",
    "\n",
    "--- webdir('http://reed.cs.depaul.edu/lperkovic/csc242/test1.html', 2, 0)\n",
    "http://reed.cs.depaul.edu/lperkovic/csc242/test1.html\n",
    "    http://reed.cs.depaul.edu/lperkovic/csc242/test2.html\n",
    "        http://reed.cs.depaul.edu/lperkovic/csc242/test4.html\n",
    "    http://reed.cs.depaul.edu/lperkovic/csc242/test3.html\n",
    "        http://reed.cs.depaul.edu/lperkovic/csc242/test4.html\n",
    "\n"
   ]
  },
  {
   "cell_type": "code",
   "execution_count": 15,
   "id": "ac4fa95a",
   "metadata": {},
   "outputs": [
    {
     "name": "stdout",
     "output_type": "stream",
     "text": [
      "     http://reed.cs.depaul.edu/lperkovic/test1.html\n",
      "      http://reed.cs.depaul.edu/lperkovic/test2.html\n",
      "       http://reed.cs.depaul.edu/lperkovic/test4.html\n",
      "      http://reed.cs.depaul.edu/lperkovic/test3.html\n",
      "       http://reed.cs.depaul.edu/lperkovic/test4.html\n"
     ]
    }
   ],
   "source": [
    "from html.parser import HTMLParser\n",
    "from urllib.parse import urljoin\n",
    "from urllib.request import urlopen\n",
    "\n",
    "class Collector(HTMLParser):\n",
    "    \n",
    "    def __init__(self, url):                          #initializes the parser and the initial indentation      \n",
    "        HTMLParser.__init__(self)\n",
    "        self.url = url\n",
    "        self.links = []\n",
    "        \n",
    "    def handle_starttag(self, tag, attrs):              #collects hyperlink URLs in their absolute format     \n",
    "        if tag == 'a':                                        # search for href attribute and print its value\n",
    "\n",
    "            for attr in attrs:\n",
    "                if attr[0] == 'href':\n",
    "                    \n",
    "                    absolute = urljoin(self.url, attr[1])    # construct absolute URL\n",
    "                    if absolute[:4] == 'http': \n",
    "                        self.links.append(absolute)\n",
    "                        \n",
    "    def getLinks(self):      \n",
    "        return self.links\n",
    "\n",
    "\n",
    "def analyze(url):\n",
    "    \n",
    "    content = urlopen(url).read().decode()\n",
    "    collector = Collector(url)\n",
    "    collector.feed(content)\n",
    "    urls = collector.getLinks()          \n",
    "\n",
    "    return urls      \n",
    "    \n",
    "visited = set()                                     # initialize visited to an empty set\n",
    "deep = None\n",
    "indentation = None\n",
    "def webdir(url,depth,indent):\n",
    "   \n",
    "    global visited                                  # warns the programmer \n",
    "    visited.add(url)\n",
    "\n",
    "    if depth == None:\n",
    "        return\n",
    "    \n",
    "    print(' '*indent, url)\n",
    "    indent +=1\n",
    "    depth -=1\n",
    "       \n",
    "    links = analyze(url)                           # analyze() returns a list of hyperlink URLs in web page url \n",
    "      \n",
    "    for link in links:                           \n",
    "            try:\n",
    "                webdir(link,depth,indent)\n",
    "            except:\n",
    "                pass\n",
    "\n",
    "\n",
    "url = 'http://reed.cs.depaul.edu/lperkovic/test1.html'\n",
    "webdir(url,2,4)"
   ]
  },
  {
   "cell_type": "markdown",
   "id": "f0886ab9",
   "metadata": {},
   "source": [
    "# Question 8\n",
    "Write SQL queries on the below database table that return:\n",
    "\n",
    "\n",
    "City \tCountry \tSeason \tTemperature (C)\tRainfall (mm)\n",
    "Mumbai \tIndia \tWinter \t24.8 \t5.9 \n",
    "Mumbai \tIndia \tSpring\t28.4 \t16.2 \n",
    "Mumbai \tIndia \tSummer\t27.9 \t1549.4 \n",
    "Mumbai \tIndia \tFall\t27.6 \t346.0 \n",
    "London \tUnited Kingdom \tWinter\t4.2 \t207.7 \n",
    "London \tUnited Kingdom \tSpring\t8.3 \t169.6 \n",
    "London \tUnited Kingdom \tSummer\t15.7 \t157.0 \n",
    "London \tUnited Kingdom \tFall\t10.4 \t218.5 \n",
    "Cairo \tEgypt \tWinter\t13.6 \t16.5 \n",
    "Cairo \tEgypt \tSpring\t20.7 \t6.5 \n",
    "Cairo \tEgypt \tSummer\t27.7 \t0.1 \n",
    "Cairo \tEgypt \tFall\t22.2 \t4.5"
   ]
  },
  {
   "cell_type": "code",
   "execution_count": 17,
   "id": "6b2e5b6c",
   "metadata": {},
   "outputs": [],
   "source": [
    "import os\n",
    "import mysql.connector\n",
    "import pandas as pd\n",
    "import numpy as np\n",
    "import matplotlib.pyplot as plt\n",
    "import seaborn as sns\n",
    "from dotenv import load_dotenv\n",
    "%matplotlib inline"
   ]
  },
  {
   "cell_type": "code",
   "execution_count": 18,
   "id": "b5e5ce37",
   "metadata": {},
   "outputs": [],
   "source": [
    "load_dotenv()\n",
    "user = os.getenv('DB_USER')\n",
    "password = os.getenv('DB_PASS')"
   ]
  },
  {
   "cell_type": "code",
   "execution_count": 19,
   "id": "980a8e68",
   "metadata": {},
   "outputs": [],
   "source": [
    "connection = mysql.connector.connect(host = \"localhost\",\n",
    "                                     user = user,\n",
    "                                     passwd = password,\n",
    "                                     db = 'Demo')"
   ]
  },
  {
   "cell_type": "code",
   "execution_count": 20,
   "id": "2e6a5159",
   "metadata": {},
   "outputs": [
    {
     "data": {
      "text/plain": [
       "<mysql.connector.connection.MySQLConnection at 0x7f7a9c304400>"
      ]
     },
     "execution_count": 20,
     "metadata": {},
     "output_type": "execute_result"
    }
   ],
   "source": [
    "connection"
   ]
  },
  {
   "cell_type": "code",
   "execution_count": 21,
   "id": "7e231bf3",
   "metadata": {},
   "outputs": [
    {
     "name": "stdout",
     "output_type": "stream",
     "text": [
      "('Mumbai', 'India', 'Winter', 24.8, 5.9)\n",
      "('Mumbai', 'India', 'Spring', 28.4, 16.2)\n",
      "('Mumbai', 'India', 'Summer', 27.9, 1549.4)\n",
      "('Mumbai', 'India', 'Fall', 27.6, 346.0)\n",
      "('London', 'United Kingdom', 'Winter', 4.2, 207.7)\n",
      "('London', 'United Kingdom', 'Spring', 8.3, 169.6)\n",
      "('London', 'United Kingdom', 'Summer', 15.7, 157.0)\n",
      "('London', 'United Kingdom', 'Fall', 10.4, 218.5)\n",
      "('Cairo', 'Egypt', 'Winter', 13.6, 16.5)\n",
      "('Cairo', 'Egypt', 'Spring', 20.7, 6.5)\n",
      "('Cairo', 'Egypt', 'Summer', 27.7, 0.1)\n",
      "('Cairo', 'Egypt', 'Fall', 22.2, 4.5)\n"
     ]
    }
   ],
   "source": [
    "cursor = connection.cursor()\n",
    "cursor.execute(\"SELECT * FROM weather_table\") #created the table in mysql and fetching it from here\n",
    "rows=cursor.fetchall()\n",
    "for row in rows:\n",
    "    print(row)"
   ]
  },
  {
   "cell_type": "markdown",
   "id": "966f9e25",
   "metadata": {},
   "source": [
    "a) All the temperature data."
   ]
  },
  {
   "cell_type": "code",
   "execution_count": 23,
   "id": "591d26f8",
   "metadata": {},
   "outputs": [
    {
     "name": "stdout",
     "output_type": "stream",
     "text": [
      "24.8, 28.4, 27.9, 27.6, 4.2, 8.3, 15.7, 10.4, 13.6, 20.7, 27.7, 22.2, \n"
     ]
    }
   ],
   "source": [
    "cursor = connection.cursor()\n",
    "cursor.execute(\"SELECT Temperature FROM weather_table\")\n",
    "for record in cursor: print(record[0], end=\", \")\n",
    "print()"
   ]
  },
  {
   "cell_type": "markdown",
   "id": "3eed9a85",
   "metadata": {},
   "source": [
    "b) All the cities, but without repetition."
   ]
  },
  {
   "cell_type": "code",
   "execution_count": 24,
   "id": "8afd6d73",
   "metadata": {},
   "outputs": [
    {
     "name": "stdout",
     "output_type": "stream",
     "text": [
      "Mumbai London Cairo \n"
     ]
    }
   ],
   "source": [
    "cursor = connection.cursor()\n",
    "cursor.execute(\"SELECT DISTINCT City FROM weather_table\")\n",
    "for record in cursor: print(record[0], end=\" \")\n",
    "cursor.fetchall()\n",
    "print()"
   ]
  },
  {
   "cell_type": "markdown",
   "id": "f25f462c",
   "metadata": {},
   "source": [
    "c) All the records for India."
   ]
  },
  {
   "cell_type": "code",
   "execution_count": 25,
   "id": "58b60eda",
   "metadata": {},
   "outputs": [
    {
     "name": "stdout",
     "output_type": "stream",
     "text": [
      "('Mumbai', 'India', 'Winter', 24.8, 5.9)\n",
      "('Mumbai', 'India', 'Spring', 28.4, 16.2)\n",
      "('Mumbai', 'India', 'Summer', 27.9, 1549.4)\n",
      "('Mumbai', 'India', 'Fall', 27.6, 346.0)\n"
     ]
    }
   ],
   "source": [
    "cursor = connection.cursor()\n",
    "query = \"SELECT * FROM weather_table WHERE Country='India'\"\n",
    "cursor.execute(query)\n",
    "for record in cursor: print(record)"
   ]
  },
  {
   "cell_type": "markdown",
   "id": "e8a8b7ad",
   "metadata": {},
   "source": [
    "d) All the Fall records."
   ]
  },
  {
   "cell_type": "code",
   "execution_count": 26,
   "id": "f4fcfedc",
   "metadata": {},
   "outputs": [
    {
     "name": "stdout",
     "output_type": "stream",
     "text": [
      "('Mumbai', 'India', 'Fall', 27.6, 346.0)\n",
      "('London', 'United Kingdom', 'Fall', 10.4, 218.5)\n",
      "('Cairo', 'Egypt', 'Fall', 22.2, 4.5)\n",
      "\n"
     ]
    }
   ],
   "source": [
    "cursor = connection.cursor()\n",
    "query = \"SELECT * FROM weather_table WHERE Season='Fall'\"\n",
    "cursor.execute(query)\n",
    "for record in cursor: print(\"{}\".format(record))\n",
    "print()"
   ]
  },
  {
   "cell_type": "markdown",
   "id": "31d5e596",
   "metadata": {},
   "source": [
    "e) The city, country, and season for which the average rainfall is between 200 and 400 millimeters."
   ]
  },
  {
   "cell_type": "code",
   "execution_count": 27,
   "id": "0c4afea8",
   "metadata": {},
   "outputs": [
    {
     "name": "stdout",
     "output_type": "stream",
     "text": [
      "('Mumbai', 'India', 'Fall')\n",
      "('London', 'United Kingdom', 'Winter')\n",
      "('London', 'United Kingdom', 'Fall')\n",
      "\n"
     ]
    }
   ],
   "source": [
    "cursor = connection.cursor()\n",
    "query = \"SELECT City, Country, Season FROM weather_table WHERE Rainfall>200.0 and Rainfall<400.0\"\n",
    "cursor.execute(query)\n",
    "for record in cursor: print(record)\n",
    "print()"
   ]
  },
  {
   "cell_type": "markdown",
   "id": "136ed0e1",
   "metadata": {},
   "source": [
    "f) The city and country for which the average Fall temperature is above 20\n",
    "degrees, in increasing temperature order."
   ]
  },
  {
   "cell_type": "code",
   "execution_count": 28,
   "id": "173c721f",
   "metadata": {},
   "outputs": [
    {
     "name": "stdout",
     "output_type": "stream",
     "text": [
      "('Cairo', 'Egypt')\n",
      "('Cairo', 'Egypt')\n",
      "('Mumbai', 'India')\n",
      "('Mumbai', 'India')\n",
      "('Cairo', 'Egypt')\n",
      "('Mumbai', 'India')\n",
      "('Mumbai', 'India')\n",
      "\n"
     ]
    }
   ],
   "source": [
    "cursor = connection.cursor()\n",
    "query = \"SELECT City, Country FROM weather_table WHERE Temperature>20 ORDER BY Temperature ASC\"\n",
    "cursor.execute(query)\n",
    "for record in cursor: print(record)\n",
    "print()"
   ]
  },
  {
   "cell_type": "markdown",
   "id": "76b97cc7",
   "metadata": {},
   "source": [
    "g) The total annual rainfall for Cairo."
   ]
  },
  {
   "cell_type": "code",
   "execution_count": 29,
   "id": "dec68719",
   "metadata": {},
   "outputs": [
    {
     "name": "stdout",
     "output_type": "stream",
     "text": [
      "27.600000001490116\n",
      "\n"
     ]
    }
   ],
   "source": [
    "cursor = connection.cursor()\n",
    "query = \"SELECT SUM(Rainfall) FROM weather_table WHERE City = 'Cairo'\"\n",
    "cursor.execute(query)\n",
    "for record in cursor: print(record[0])\n",
    "print()"
   ]
  },
  {
   "cell_type": "markdown",
   "id": "22eb353c",
   "metadata": {},
   "source": [
    "h) The total rainfall for each season."
   ]
  },
  {
   "cell_type": "code",
   "execution_count": 30,
   "id": "d0776414",
   "metadata": {},
   "outputs": [
    {
     "name": "stdout",
     "output_type": "stream",
     "text": [
      "Rainfall for Winter is 230.09999704360962\n",
      "Rainfall for Spring is 192.30000686645508\n",
      "Rainfall for Summer is 1706.5000244155526\n",
      "Rainfall for Fall is 569.0\n"
     ]
    }
   ],
   "source": [
    "cursor = connection.cursor()\n",
    "query = \"SELECT Season, SUM(Rainfall) FROM weather_table GROUP BY Season\"\n",
    "cursor.execute(query)\n",
    "for record in cursor: print(\"Rainfall for {} is {}\".format(record[0], record[1]))"
   ]
  },
  {
   "cell_type": "markdown",
   "id": "77d40514",
   "metadata": {},
   "source": [
    "# Question 9\n",
    "Suppose list words is defined as follows:\n",
    "\n",
    "--- words = ['The', 'quick', 'brown', 'fox', 'jumps', 'over', 'the', 'lazy', 'dog']"
   ]
  },
  {
   "cell_type": "code",
   "execution_count": 31,
   "id": "dc1c36da",
   "metadata": {},
   "outputs": [],
   "source": [
    "words = ['The', 'quick', 'brown', 'fox', 'jumps', 'over', 'the', 'lazy', 'dog']"
   ]
  },
  {
   "cell_type": "markdown",
   "id": "966715ae",
   "metadata": {},
   "source": [
    "Write list comprehension expressions that use list words and generate the following lists:"
   ]
  },
  {
   "cell_type": "markdown",
   "id": "15895afd",
   "metadata": {},
   "source": [
    "a)\t['THE', 'QUICK', 'BROWN', 'FOX', 'JUMPS', 'OVER', 'THE', 'LAZY', 'DOG']"
   ]
  },
  {
   "cell_type": "code",
   "execution_count": 32,
   "id": "f3edc5d1",
   "metadata": {},
   "outputs": [
    {
     "name": "stdout",
     "output_type": "stream",
     "text": [
      "['THE', 'QUICK', 'BROWN', 'FOX', 'JUMPS', 'OVER', 'THE', 'LAZY', 'DOG']\n"
     ]
    }
   ],
   "source": [
    "uppercase_list = [ word.upper() for word in words]\n",
    "print(uppercase_list)"
   ]
  },
  {
   "cell_type": "markdown",
   "id": "25fbe051",
   "metadata": {},
   "source": [
    "b)\t['the', 'quick', 'brown', 'fox', 'jumps', 'over', 'the', 'lazy', 'dog']"
   ]
  },
  {
   "cell_type": "code",
   "execution_count": 33,
   "id": "64964e7b",
   "metadata": {},
   "outputs": [
    {
     "name": "stdout",
     "output_type": "stream",
     "text": [
      "['the', 'quick', 'brown', 'fox', 'jumps', 'over', 'the', 'lazy', 'dog']\n"
     ]
    }
   ],
   "source": [
    "lowercase_list = [ word.lower() for word in words]\n",
    "print(lowercase_list)"
   ]
  },
  {
   "cell_type": "markdown",
   "id": "897627a2",
   "metadata": {},
   "source": [
    "c)\t[3, 5, 5, 3, 5, 4, 3, 4, 3] (the list of lengths of words in list words)."
   ]
  },
  {
   "cell_type": "code",
   "execution_count": 34,
   "id": "9f5e119c",
   "metadata": {},
   "outputs": [
    {
     "name": "stdout",
     "output_type": "stream",
     "text": [
      "[3, 5, 5, 3, 5, 4, 3, 4, 3]\n"
     ]
    }
   ],
   "source": [
    "word_length = [ len(word) for word in words]\n",
    "print(word_length)"
   ]
  },
  {
   "cell_type": "markdown",
   "id": "996a3dde",
   "metadata": {},
   "source": [
    "d)\t[['THE', 'the', 3], ['QUICK', 'quick', 5], ['BROWN', 'brown', 5], ['FOX', 'fox', 3], ['JUMPS', 'jumps', 5], ['OVER', 'over', 4], ['THE', 'the', 3], ['LAZY', 'lazy', 4], ['DOG', 'dog', 3]] (the list containing a list for every word of list words, where each list contains the word in uppercase and lowercase and the length of the word.)"
   ]
  },
  {
   "cell_type": "code",
   "execution_count": 35,
   "id": "16b7c3c2",
   "metadata": {},
   "outputs": [
    {
     "name": "stdout",
     "output_type": "stream",
     "text": [
      "[['THE', 'the', 3], ['QUICK', 'quick', 5], ['BROWN', 'brown', 5], ['FOX', 'fox', 3], ['JUMPS', 'jumps', 5], ['OVER', 'over', 4], ['THE', 'the', 3], ['LAZY', 'lazy', 4], ['DOG', 'dog', 3]]\n"
     ]
    }
   ],
   "source": [
    "upper_lower_length = [ [word.upper(),word.lower(), len(word)] for word in words]\n",
    "print(upper_lower_length)"
   ]
  },
  {
   "cell_type": "markdown",
   "id": "b993b23d",
   "metadata": {},
   "source": [
    "e)\t['The', 'quick', 'brown', 'fox', 'jumps', 'over', 'the', 'lazy', 'dog'] (the list of words in list words containing 4 or more characters.)"
   ]
  },
  {
   "cell_type": "code",
   "execution_count": 36,
   "id": "2e75eb33",
   "metadata": {},
   "outputs": [
    {
     "name": "stdout",
     "output_type": "stream",
     "text": [
      "['quick', 'brown', 'jumps', 'over', 'lazy']\n"
     ]
    }
   ],
   "source": [
    "char_4_list = [ word for word in words if (len(word)>=4)]\n",
    "print(char_4_list)"
   ]
  }
 ],
 "metadata": {
  "kernelspec": {
   "display_name": "Python 3 (ipykernel)",
   "language": "python",
   "name": "python3"
  },
  "language_info": {
   "codemirror_mode": {
    "name": "ipython",
    "version": 3
   },
   "file_extension": ".py",
   "mimetype": "text/x-python",
   "name": "python",
   "nbconvert_exporter": "python",
   "pygments_lexer": "ipython3",
   "version": "3.9.7"
  }
 },
 "nbformat": 4,
 "nbformat_minor": 5
}
